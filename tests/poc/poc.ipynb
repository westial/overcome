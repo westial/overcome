{
 "cells": [
  {
   "cell_type": "code",
   "execution_count": 81,
   "metadata": {
    "collapsed": true
   },
   "outputs": [
    {
     "data": {
      "text/plain": "0    1\n1    3\n2    9\n6    7\nName: values, dtype: int64"
     },
     "execution_count": 81,
     "metadata": {},
     "output_type": "execute_result"
    }
   ],
   "source": [
    "import numpy as np\n",
    "import pandas as pd\n",
    "\n",
    "values1 = pd.Series(dtype=np.int16, name=\"values\")\n",
    "values1.loc[0] = 1\n",
    "values1.loc[1] = 3\n",
    "values1.loc[2] = 9\n",
    "values1.loc[6] = 7\n",
    "values1.tail()"
   ]
  },
  {
   "cell_type": "code",
   "execution_count": 82,
   "outputs": [
    {
     "data": {
      "text/plain": "0     2\n1     4\n2    10\n6     8\nName: values, dtype: int64"
     },
     "execution_count": 82,
     "metadata": {},
     "output_type": "execute_result"
    }
   ],
   "source": [
    "values1 += 1\n",
    "values1.tail()"
   ],
   "metadata": {
    "collapsed": false
   }
  },
  {
   "cell_type": "code",
   "execution_count": 83,
   "outputs": [
    {
     "data": {
      "text/plain": "0    2\n1    4\n6    8\nName: values, dtype: int64"
     },
     "execution_count": 83,
     "metadata": {},
     "output_type": "execute_result"
    }
   ],
   "source": [
    "values1.drop(labels=2, errors=\"ignore\", inplace=True)\n",
    "values1.tail()"
   ],
   "metadata": {
    "collapsed": false
   }
  },
  {
   "cell_type": "code",
   "execution_count": 84,
   "outputs": [
    {
     "data": {
      "text/plain": "0    0\n1    0\n2    0\n3    0\n4    0\n5    0\n6    0\n7    0\n8    0\n9    0\nName: values, dtype: int16"
     },
     "execution_count": 84,
     "metadata": {},
     "output_type": "execute_result"
    }
   ],
   "source": [
    "\n",
    "values2 = pd.Series(np.zeros([10,], dtype=np.int16), name=\"values\")\n",
    "values2.tail(20)"
   ],
   "metadata": {
    "collapsed": false
   }
  },
  {
   "cell_type": "code",
   "execution_count": 85,
   "outputs": [
    {
     "name": "stderr",
     "output_type": "stream",
     "text": [
      "/home/jaume/.local/lib/python3.9/site-packages/pandas/core/dtypes/cast.py:2221: RuntimeWarning: invalid value encountered in cast\n",
      "  casted = element.astype(dtype)\n"
     ]
    },
    {
     "data": {
      "text/plain": "0    2\n1    4\n2    0\n3    0\n4    0\n5    0\n6    8\n7    0\n8    0\n9    0\nName: values, dtype: int16"
     },
     "execution_count": 85,
     "metadata": {},
     "output_type": "execute_result"
    }
   ],
   "source": [
    "values2.update(values1)\n",
    "values2.tail(10)"
   ],
   "metadata": {
    "collapsed": false
   }
  }
 ],
 "metadata": {
  "kernelspec": {
   "display_name": "Python 3",
   "language": "python",
   "name": "python3"
  },
  "language_info": {
   "codemirror_mode": {
    "name": "ipython",
    "version": 2
   },
   "file_extension": ".py",
   "mimetype": "text/x-python",
   "name": "python",
   "nbconvert_exporter": "python",
   "pygments_lexer": "ipython2",
   "version": "2.7.6"
  }
 },
 "nbformat": 4,
 "nbformat_minor": 0
}
